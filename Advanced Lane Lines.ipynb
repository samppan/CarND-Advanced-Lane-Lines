{
 "cells": [
  {
   "cell_type": "code",
   "execution_count": 6,
   "metadata": {},
   "outputs": [],
   "source": [
    "#importing some useful packages\n",
    "import matplotlib.pyplot as plt\n",
    "import matplotlib.image as mpimg\n",
    "import numpy as np\n",
    "import cv2\n",
    "from scipy.stats import linregress\n",
    "import glob\n",
    "import pickle\n",
    "\n",
    "#importing notebook gui library\n",
    "# import ipywidgets as widgets\n",
    "# from ipywidgets.widgets import Label, FloatSlider, Button, IntSlider\n",
    "# from ipywidgets import Layout, HBox, VBox\n",
    "# from IPython.display import display\n",
    "# from ipywidgets import interact\n",
    "# import time\n",
    "# from matplotlib.widgets import Slider, Button\n",
    "\n",
    "%matplotlib inline"
   ]
  },
  {
   "cell_type": "markdown",
   "metadata": {},
   "source": [
    "# Advanced Lane Line\n",
    "\n",
    "* Compute the camera calibration matrix and distortion coefficients given a set of chessboard images."
   ]
  },
  {
   "cell_type": "markdown",
   "metadata": {},
   "source": [
    "## Calibrate camera"
   ]
  },
  {
   "cell_type": "code",
   "execution_count": 67,
   "metadata": {},
   "outputs": [],
   "source": [
    "nx = 9\n",
    "ny = 6\n",
    "\n",
    "images = glob.glob('./camera_cal/calibration*.jpg')\n",
    "images.sort()\n",
    "# print(images[3])\n",
    "# images = [images[3]]\n",
    "\n",
    "objpoints = []\n",
    "imgpoints =[]\n",
    "\n",
    "objp = np.zeros((ny*nx, 3), np.float32)\n",
    "objp[:,:2] = np.mgrid[0:nx,0:ny].T.reshape(-1,2)\n",
    "# print(objp)\n",
    "\n",
    "# fig = plt.figure(figsize=(15,15))\n",
    "# fig.set_tight_layout(tight=True)\n",
    "# ncols = 2\n",
    "# nrows = 20\n",
    "\n",
    "# Calibrate images in camera_cal\\\n",
    "for i, fname in enumerate(images):\n",
    "    savfname = \"{}{}{}.jpg\".format('./camera_cal_output/',(fname.split(sep='/')[-1]).split(sep='.')[0], \"_points\")\n",
    "    \n",
    "    img = cv2.imread(fname)\n",
    "    gray = cv2.cvtColor(img, cv2.COLOR_BGR2GRAY)\n",
    "    \n",
    "    ret, corners = cv2.findChessboardCorners(gray, (nx, ny), None)\n",
    "\n",
    "    if ret == True:\n",
    "        # Found cornders\n",
    "        objpoints.append(objp)\n",
    "        imgpoints.append(corners)\n",
    "        \n",
    "        # Draw on image and save \n",
    "        cv2.drawChessboardCorners(img, (nx, ny), corners, ret)\n",
    "        cv2.imwrite(savfname, img)\n",
    "\n",
    "# Caculate calibration coefficient from all images have points.\n",
    "ret, mtx, dist, rvecs, tvecs = cv2.calibrateCamera(objpoints, imgpoints, gray.shape[::-1], None, None)\n",
    "        \n",
    "# Correct images found  and save as \"_cal_output\"\n",
    "for fname in images:\n",
    "    savfname = \"{}{}{}.jpg\".format('./camera_cal_output/',(fname.split(sep='/')[-1]).split(sep='.')[0], \"_cal\")\n",
    "    img = cv2.imread(fname)\n",
    "    undist = cv2.undistort(img, mtx, ret, None, mtx)  \n",
    "    cv2.imwrite(savfname, undist)\n",
    "\n",
    "    "
   ]
  },
  {
   "cell_type": "markdown",
   "metadata": {},
   "source": [
    "### Calibration Result\n",
    "\n",
    "* Apply a distortion correction to raw images.\n",
    "\n",
    "#### Before :\n",
    "Grid corners identified and draw to original image\n",
    "![before](./camera_cal_output/calibration2_points.jpg)\n",
    "\n",
    "#### After:\n",
    "Distort image from calibrated matrices\n",
    "![after](./camera_cal_output/calibration2_cal.jpg)\n"
   ]
  },
  {
   "cell_type": "markdown",
   "metadata": {},
   "source": [
    "## Lane Detection"
   ]
  },
  {
   "cell_type": "markdown",
   "metadata": {},
   "source": [
    "* Use color transforms, gradients, etc., to create a thresholded binary image."
   ]
  },
  {
   "cell_type": "code",
   "execution_count": null,
   "metadata": {},
   "outputs": [],
   "source": []
  }
 ],
 "metadata": {
  "kernelspec": {
   "display_name": "Python 3",
   "language": "python",
   "name": "python3"
  },
  "language_info": {
   "codemirror_mode": {
    "name": "ipython",
    "version": 3
   },
   "file_extension": ".py",
   "mimetype": "text/x-python",
   "name": "python",
   "nbconvert_exporter": "python",
   "pygments_lexer": "ipython3",
   "version": "3.5.2"
  },
  "widgets": {
   "state": {},
   "version": "1.1.2"
  }
 },
 "nbformat": 4,
 "nbformat_minor": 2
}
